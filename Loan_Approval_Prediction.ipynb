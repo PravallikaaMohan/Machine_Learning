{
  "nbformat": 4,
  "nbformat_minor": 0,
  "metadata": {
    "colab": {
      "name": "Loan Approval Prediction.ipynb",
      "provenance": [],
      "authorship_tag": "ABX9TyOoKZpp9cYKXJKFpeJfTXqp",
      "include_colab_link": true
    },
    "kernelspec": {
      "name": "python3",
      "display_name": "Python 3"
    },
    "language_info": {
      "name": "python"
    }
  },
  "cells": [
    {
      "cell_type": "markdown",
      "metadata": {
        "id": "view-in-github",
        "colab_type": "text"
      },
      "source": [
        "<a href=\"https://colab.research.google.com/github/PravallikaaMohan/Machine_Learning/blob/main/Loan_Approval_Prediction.ipynb\" target=\"_parent\"><img src=\"https://colab.research.google.com/assets/colab-badge.svg\" alt=\"Open In Colab\"/></a>"
      ]
    },
    {
      "cell_type": "markdown",
      "metadata": {
        "id": "pm8dNzfsPUNY"
      },
      "source": [
        "# **Prediction of Loan Application Approval**"
      ]
    },
    {
      "cell_type": "markdown",
      "metadata": {
        "id": "Z9LMSECBQA9d"
      },
      "source": [
        "We are going to predict the probaility of a loan application being approved.\n",
        "\n",
        "Dataset:https://raw.githubusercontent.com/callxpert/datasets/master/Loan-applicant-details.csv"
      ]
    },
    {
      "cell_type": "markdown",
      "metadata": {
        "id": "5jzdp9-vQK8T"
      },
      "source": [
        "### **Loading the Dataset**"
      ]
    },
    {
      "cell_type": "code",
      "metadata": {
        "id": "qEu8kqclQQxY"
      },
      "source": [
        "import pandas as pd\n",
        "import numpy as np\n",
        "import matplotlib.pyplot as plt\n",
        "from sklearn import model_selection\n",
        "from sklearn.metrics import accuracy_score\n",
        "from sklearn.linear_model import LogisticRegression\n",
        "from sklearn.linear_model import LinearRegression\n",
        "from sklearn.ensemble import RandomForestClassifier\n",
        "from sklearn.neighbors import KNeighborsClassifier\n",
        "from sklearn.svm import SVC\n",
        "from sklearn.tree import DecisionTreeClassifier, export_graphviz"
      ],
      "execution_count": null,
      "outputs": []
    },
    {
      "cell_type": "code",
      "metadata": {
        "id": "9Lwf2EcNRjFA"
      },
      "source": [
        "url = \"https://raw.githubusercontent.com/callxpert/datasets/master/Loan-applicant-details.csv\"\n",
        "names = ['Loan_ID','Gender','Married','Dependents','Education','Self_Employed','ApplicantIncome','CoapplicantIncome','LoanAmount','Loan_Amount_Term','Credit_History','Property_Area','Loan_Status']\n",
        "dataset = pd.read_csv(url, names=names)"
      ],
      "execution_count": null,
      "outputs": []
    },
    {
      "cell_type": "code",
      "metadata": {
        "colab": {
          "base_uri": "https://localhost:8080/"
        },
        "id": "3N5PsH65Z9cA",
        "outputId": "1a282fb3-a073-4d4f-ad87-de332980f2f8"
      },
      "source": [
        "dataset.shape"
      ],
      "execution_count": null,
      "outputs": [
        {
          "output_type": "execute_result",
          "data": {
            "text/plain": [
              "(480, 13)"
            ]
          },
          "metadata": {},
          "execution_count": 34
        }
      ]
    },
    {
      "cell_type": "code",
      "metadata": {
        "colab": {
          "base_uri": "https://localhost:8080/"
        },
        "id": "Q8_kVeEeSGQF",
        "outputId": "2b76a30f-b450-468b-abb8-d1192b5d8c80"
      },
      "source": [
        "print(dataset.head(20))"
      ],
      "execution_count": null,
      "outputs": [
        {
          "output_type": "stream",
          "name": "stdout",
          "text": [
            "     Loan_ID  Gender Married  ... Credit_History Property_Area Loan_Status\n",
            "0   LP001003    Male     Yes  ...              1         Rural           N\n",
            "1   LP001005    Male     Yes  ...              1         Urban           Y\n",
            "2   LP001006    Male     Yes  ...              1         Urban           Y\n",
            "3   LP001008    Male      No  ...              1         Urban           Y\n",
            "4   LP001011    Male     Yes  ...              1         Urban           Y\n",
            "5   LP001013    Male     Yes  ...              1         Urban           Y\n",
            "6   LP001014    Male     Yes  ...              0     Semiurban           N\n",
            "7   LP001018    Male     Yes  ...              1         Urban           Y\n",
            "8   LP001020    Male     Yes  ...              1     Semiurban           N\n",
            "9   LP001024    Male     Yes  ...              1         Urban           Y\n",
            "10  LP001028    Male     Yes  ...              1         Urban           Y\n",
            "11  LP001029    Male      No  ...              1         Rural           N\n",
            "12  LP001030    Male     Yes  ...              1         Urban           Y\n",
            "13  LP001032    Male      No  ...              1         Urban           Y\n",
            "14  LP001036  Female      No  ...              0         Urban           N\n",
            "15  LP001038    Male     Yes  ...              1         Rural           N\n",
            "16  LP001043    Male     Yes  ...              0         Urban           N\n",
            "17  LP001046    Male     Yes  ...              1         Urban           Y\n",
            "18  LP001047    Male     Yes  ...              0     Semiurban           N\n",
            "19  LP001066    Male     Yes  ...              1     Semiurban           Y\n",
            "\n",
            "[20 rows x 13 columns]\n"
          ]
        }
      ]
    },
    {
      "cell_type": "code",
      "metadata": {
        "id": "bxSvw_pGSQEy"
      },
      "source": [
        "from sklearn.preprocessing import LabelEncoder\n",
        "var_mod = ['Gender','Married','Dependents','Education','Self_Employed','Property_Area','Loan_Status']\n",
        "le = LabelEncoder()\n",
        "for i in var_mod:\n",
        "    dataset[i] = le.fit_transform(dataset[i])"
      ],
      "execution_count": null,
      "outputs": []
    },
    {
      "cell_type": "markdown",
      "metadata": {
        "id": "NW2rVOhCSSXO"
      },
      "source": [
        "### **Splitting the Dataset**"
      ]
    },
    {
      "cell_type": "markdown",
      "metadata": {
        "id": "3eRL37-kSd3P"
      },
      "source": [
        "Our dataset has 480 records. We are going to use 80% of it for training the model and 20% of the records to evaluate our model. \n",
        "\n",
        "Though our dataset has lot of columns, we are only going to use the Income fields, loan amount, loan duration and credit history fields to train our model."
      ]
    },
    {
      "cell_type": "code",
      "metadata": {
        "id": "8j8HndQ9SWgW"
      },
      "source": [
        "array = dataset.values\n",
        "X = array[:,6:11]\n",
        "Y = array[:,12]\n",
        "x_train, x_test, y_train, y_test = model_selection.train_test_split(X, Y, test_size=0.2, random_state=7)"
      ],
      "execution_count": null,
      "outputs": []
    },
    {
      "cell_type": "code",
      "metadata": {
        "colab": {
          "base_uri": "https://localhost:8080/"
        },
        "id": "WhVUzw2aTuCr",
        "outputId": "2524486a-0ebe-4a0f-d559-42ef870bf070"
      },
      "source": [
        "x_train"
      ],
      "execution_count": null,
      "outputs": [
        {
          "output_type": "execute_result",
          "data": {
            "text/plain": [
              "array([[3522, 0.0, 81, 180, 1],\n",
              "       [6000, 0.0, 141, 360, 1],\n",
              "       [3333, 0.0, 70, 360, 1],\n",
              "       ...,\n",
              "       [3500, 1667.0, 114, 360, 1],\n",
              "       [3427, 0.0, 138, 360, 1],\n",
              "       [6250, 0.0, 128, 360, 1]], dtype=object)"
            ]
          },
          "metadata": {},
          "execution_count": 11
        }
      ]
    },
    {
      "cell_type": "code",
      "metadata": {
        "colab": {
          "base_uri": "https://localhost:8080/"
        },
        "id": "mhPEX8AzTwL7",
        "outputId": "077ed886-99dc-4ea5-d37a-26041a6377f4"
      },
      "source": [
        "y_train"
      ],
      "execution_count": null,
      "outputs": [
        {
          "output_type": "execute_result",
          "data": {
            "text/plain": [
              "array([0, 1, 1, 1, 0, 1, 0, 1, 1, 0, 0, 0, 1, 1, 1, 1, 1, 1, 1, 0, 1, 0,\n",
              "       1, 1, 1, 1, 0, 1, 1, 0, 1, 0, 1, 0, 1, 1, 1, 1, 1, 0, 1, 1, 1, 0,\n",
              "       0, 1, 1, 1, 1, 0, 1, 1, 0, 1, 1, 0, 1, 0, 1, 1, 0, 0, 1, 1, 1, 1,\n",
              "       1, 1, 1, 1, 0, 0, 0, 0, 1, 1, 1, 1, 1, 0, 0, 1, 1, 0, 0, 1, 0, 1,\n",
              "       0, 1, 0, 0, 1, 0, 1, 0, 1, 1, 1, 1, 1, 1, 1, 1, 1, 0, 1, 1, 1, 0,\n",
              "       1, 1, 1, 0, 0, 0, 1, 1, 1, 1, 1, 1, 1, 1, 1, 0, 1, 1, 0, 1, 0, 0,\n",
              "       0, 1, 1, 0, 1, 0, 0, 0, 1, 1, 1, 1, 1, 0, 1, 0, 1, 1, 0, 1, 1, 1,\n",
              "       0, 1, 1, 0, 1, 1, 1, 1, 0, 1, 1, 1, 1, 1, 1, 0, 1, 0, 1, 1, 1, 1,\n",
              "       0, 0, 1, 0, 1, 1, 1, 0, 1, 1, 0, 1, 1, 1, 1, 1, 0, 1, 1, 1, 1, 1,\n",
              "       1, 1, 1, 0, 0, 1, 1, 1, 1, 1, 1, 1, 0, 1, 1, 1, 0, 1, 1, 1, 0, 1,\n",
              "       0, 1, 1, 1, 1, 1, 1, 1, 1, 1, 1, 1, 1, 1, 0, 1, 0, 1, 0, 1, 0, 0,\n",
              "       1, 1, 1, 1, 1, 0, 1, 0, 1, 0, 1, 0, 1, 1, 1, 1, 0, 1, 1, 1, 0, 1,\n",
              "       1, 1, 1, 1, 1, 1, 1, 0, 1, 1, 1, 1, 1, 1, 1, 0, 1, 0, 0, 0, 0, 1,\n",
              "       0, 1, 1, 1, 1, 1, 1, 1, 0, 1, 1, 1, 1, 0, 1, 1, 1, 1, 0, 1, 1, 1,\n",
              "       1, 1, 1, 0, 1, 1, 0, 1, 1, 0, 1, 1, 1, 1, 1, 1, 0, 1, 1, 1, 1, 1,\n",
              "       1, 0, 1, 0, 1, 1, 0, 1, 0, 1, 1, 0, 1, 0, 1, 1, 1, 1, 1, 0, 1, 0,\n",
              "       1, 0, 0, 1, 0, 0, 0, 1, 0, 0, 1, 1, 0, 1, 1, 1, 1, 1, 1, 1, 1, 0,\n",
              "       1, 1, 1, 0, 1, 1, 1, 1, 0, 1])"
            ]
          },
          "metadata": {},
          "execution_count": 17
        }
      ]
    },
    {
      "cell_type": "code",
      "metadata": {
        "colab": {
          "base_uri": "https://localhost:8080/"
        },
        "id": "nWoarj0fZwuS",
        "outputId": "0b84fc1f-a937-499f-e701-f31f3bb5f6f0"
      },
      "source": [
        "x_test"
      ],
      "execution_count": null,
      "outputs": [
        {
          "output_type": "execute_result",
          "data": {
            "text/plain": [
              "array([[2281, 0.0, 113, 360, 1],\n",
              "       [6125, 1625.0, 187, 480, 1],\n",
              "       [1782, 2232.0, 107, 360, 1],\n",
              "       [1958, 2436.0, 131, 360, 1],\n",
              "       [2333, 2417.0, 136, 360, 1],\n",
              "       [6000, 0.0, 205, 240, 1],\n",
              "       [39999, 0.0, 600, 180, 0],\n",
              "       [4600, 0.0, 73, 180, 1],\n",
              "       [2785, 2016.0, 110, 360, 1],\n",
              "       [4950, 0.0, 125, 360, 1],\n",
              "       [3069, 0.0, 71, 480, 1],\n",
              "       [7583, 0.0, 187, 360, 1],\n",
              "       [7948, 7166.0, 480, 360, 1],\n",
              "       [2882, 1843.0, 123, 480, 1],\n",
              "       [5500, 0.0, 105, 360, 0],\n",
              "       [5568, 2142.0, 175, 360, 1],\n",
              "       [9963, 0.0, 180, 360, 1],\n",
              "       [9328, 0.0, 188, 180, 1],\n",
              "       [10408, 0.0, 259, 360, 1],\n",
              "       [8072, 240.0, 253, 360, 1],\n",
              "       [2491, 2054.0, 104, 360, 1],\n",
              "       [2500, 0.0, 96, 480, 1],\n",
              "       [3510, 4416.0, 243, 360, 1],\n",
              "       [16120, 0.0, 260, 360, 1],\n",
              "       [5250, 0.0, 94, 360, 1],\n",
              "       [1809, 1868.0, 90, 360, 1],\n",
              "       [2435, 0.0, 75, 360, 1],\n",
              "       [2423, 505.0, 130, 360, 1],\n",
              "       [2192, 1742.0, 45, 360, 1],\n",
              "       [5000, 0.0, 132, 360, 1],\n",
              "       [4606, 0.0, 81, 360, 1],\n",
              "       [6417, 0.0, 157, 180, 1],\n",
              "       [10833, 0.0, 234, 360, 1],\n",
              "       [3083, 2168.0, 126, 360, 1],\n",
              "       [2309, 1255.0, 125, 360, 0],\n",
              "       [3859, 3300.0, 142, 180, 1],\n",
              "       [1926, 1851.0, 50, 360, 1],\n",
              "       [1378, 1881.0, 167, 360, 1],\n",
              "       [8799, 0.0, 258, 360, 0],\n",
              "       [5000, 2541.0, 151, 480, 1],\n",
              "       [4666, 0.0, 135, 360, 1],\n",
              "       [3762, 1666.0, 135, 360, 1],\n",
              "       [5703, 0.0, 128, 360, 1],\n",
              "       [2526, 1783.0, 145, 360, 1],\n",
              "       [2927, 2405.0, 111, 360, 1],\n",
              "       [2965, 5701.0, 155, 60, 1],\n",
              "       [4180, 2306.0, 182, 360, 1],\n",
              "       [6096, 0.0, 218, 360, 0],\n",
              "       [5726, 4595.0, 258, 360, 1],\n",
              "       [3052, 1030.0, 100, 360, 1],\n",
              "       [4860, 830.0, 125, 360, 1],\n",
              "       [8333, 0.0, 246, 360, 1],\n",
              "       [3750, 0.0, 113, 480, 1],\n",
              "       [7441, 0.0, 194, 360, 1],\n",
              "       [1025, 2773.0, 112, 360, 1],\n",
              "       [3617, 0.0, 107, 360, 1],\n",
              "       [3333, 3250.0, 158, 360, 1],\n",
              "       [3430, 1250.0, 128, 360, 0],\n",
              "       [3173, 3021.0, 137, 360, 1],\n",
              "       [4750, 2333.0, 130, 360, 1],\n",
              "       [20233, 0.0, 480, 360, 1],\n",
              "       [3283, 2035.0, 148, 360, 1],\n",
              "       [6383, 1000.0, 187, 360, 1],\n",
              "       [3600, 0.0, 80, 360, 1],\n",
              "       [3180, 0.0, 71, 360, 0],\n",
              "       [2400, 1863.0, 104, 360, 0],\n",
              "       [1800, 1213.0, 47, 360, 1],\n",
              "       [18165, 0.0, 125, 360, 1],\n",
              "       [3200, 2254.0, 126, 180, 0],\n",
              "       [2787, 1917.0, 146, 360, 0],\n",
              "       [4124, 0.0, 115, 360, 1],\n",
              "       [3208, 3066.0, 172, 360, 1],\n",
              "       [8624, 0.0, 150, 360, 1],\n",
              "       [2583, 2358.0, 120, 360, 1],\n",
              "       [3500, 0.0, 81, 300, 1],\n",
              "       [3775, 0.0, 110, 360, 1],\n",
              "       [3717, 0.0, 120, 360, 1],\n",
              "       [4283, 3000.0, 172, 84, 1],\n",
              "       [5800, 0.0, 132, 360, 1],\n",
              "       [3400, 2500.0, 123, 360, 0],\n",
              "       [2889, 0.0, 45, 180, 0],\n",
              "       [10139, 0.0, 260, 360, 1],\n",
              "       [3597, 2157.0, 119, 360, 0],\n",
              "       [4288, 3263.0, 133, 180, 1],\n",
              "       [11146, 0.0, 136, 360, 1],\n",
              "       [12500, 3000.0, 320, 360, 1],\n",
              "       [4408, 0.0, 120, 360, 1],\n",
              "       [5000, 3667.0, 236, 360, 1],\n",
              "       [14880, 0.0, 96, 360, 1],\n",
              "       [5815, 3666.0, 311, 360, 1],\n",
              "       [6000, 0.0, 140, 360, 1],\n",
              "       [4166, 0.0, 116, 360, 0],\n",
              "       [6783, 0.0, 130, 360, 1],\n",
              "       [3510, 0.0, 76, 360, 0],\n",
              "       [3676, 4301.0, 172, 360, 1],\n",
              "       [4583, 0.0, 84, 360, 1]], dtype=object)"
            ]
          },
          "metadata": {},
          "execution_count": 33
        }
      ]
    },
    {
      "cell_type": "code",
      "metadata": {
        "id": "SCaNmJFeZwte"
      },
      "source": [
        ""
      ],
      "execution_count": null,
      "outputs": []
    },
    {
      "cell_type": "markdown",
      "metadata": {
        "id": "1nVDtMm5SrfH"
      },
      "source": [
        "### **Evaluating and Training the Model**"
      ]
    },
    {
      "cell_type": "markdown",
      "metadata": {
        "id": "3Rml-UPLS3i_"
      },
      "source": [
        "Logistic Regression : Logistic Regression is a classification algorithm. It is used to predict a binary outcome (1 / 0, Yes / No, True / False) given a set of independent variables. To represent binary / categorical outcome, we use dummy variables\n"
      ]
    },
    {
      "cell_type": "code",
      "metadata": {
        "colab": {
          "base_uri": "https://localhost:8080/"
        },
        "id": "PgiaPkyLSwiK",
        "outputId": "f06247c7-7e91-43b4-a2cc-7875c2e4b695"
      },
      "source": [
        "from sklearn.linear_model import LogisticRegression\n",
        "model = LogisticRegression()\n",
        "model.fit(x_train,y_train)\n",
        "predictions = model.predict(x_test)\n",
        "print(accuracy_score(list(y_test), predictions))"
      ],
      "execution_count": null,
      "outputs": [
        {
          "output_type": "stream",
          "name": "stdout",
          "text": [
            "0.7708333333333334\n"
          ]
        }
      ]
    },
    {
      "cell_type": "markdown",
      "metadata": {
        "id": "vcG3eJfeW9QT"
      },
      "source": [
        "Decision tree : Decision tree is a type of supervised learning algorithm (having a pre-defined target variable) that is mostly used in classification problems. It works for both categorical and continuous input and output variables"
      ]
    },
    {
      "cell_type": "code",
      "metadata": {
        "colab": {
          "base_uri": "https://localhost:8080/"
        },
        "id": "1pcyr5H0W-g0",
        "outputId": "e97136a8-8520-46db-fe9d-f5e5fec95ad8"
      },
      "source": [
        "model = DecisionTreeClassifier()\n",
        "model.fit(x_train,y_train)\n",
        "predictions = model.predict(x_test)\n",
        "print(accuracy_score(list(y_test), predictions))"
      ],
      "execution_count": null,
      "outputs": [
        {
          "output_type": "stream",
          "name": "stdout",
          "text": [
            "0.6354166666666666\n"
          ]
        }
      ]
    },
    {
      "cell_type": "markdown",
      "metadata": {
        "id": "hews2SJxXulr"
      },
      "source": [
        "Random forest : Random forests or random decision forests are an ensemble learning method for classification, regression and other tasks, that operate by constructing a multitude of decision trees at training time and outputting the class that is the mode of the classes (classification) or mean prediction (regression) of the individual trees"
      ]
    },
    {
      "cell_type": "code",
      "metadata": {
        "colab": {
          "base_uri": "https://localhost:8080/"
        },
        "id": "CUq9hdkhYCVx",
        "outputId": "7d77baab-11e3-4154-feae-099b528ab0f6"
      },
      "source": [
        "model = RandomForestClassifier(n_estimators=100)\n",
        "model.fit(x_train,y_train)\n",
        "predictions = model.predict(x_test)\n",
        "print(accuracy_score(list(y_test), predictions))"
      ],
      "execution_count": null,
      "outputs": [
        {
          "output_type": "stream",
          "name": "stdout",
          "text": [
            "0.75\n"
          ]
        }
      ]
    },
    {
      "cell_type": "markdown",
      "metadata": {
        "id": "8iX0TKNpZE4g"
      },
      "source": [
        "So,Logistic Regression Model gives us a better accuracy than other two algorithms."
      ]
    },
    {
      "cell_type": "markdown",
      "metadata": {
        "id": "CT3g9FMyZYX1"
      },
      "source": [
        "### **Testing the Algorithm**"
      ]
    },
    {
      "cell_type": "markdown",
      "metadata": {
        "id": "YinfOAQzaF3h"
      },
      "source": [
        "Let us check the accuracy for the following data:\n",
        "\n",
        "0   LP001003    Male     Yes  ...              1         Rural           N"
      ]
    },
    {
      "cell_type": "code",
      "metadata": {
        "colab": {
          "base_uri": "https://localhost:8080/",
          "height": 1000
        },
        "id": "FAlQJ4dZapX9",
        "outputId": "53a7cd6a-d565-4441-ec8d-78798ad8625d"
      },
      "source": [
        "X = array[0:1,6:11]\n",
        "Y = array[0:1,12]\n",
        "X"
      ],
      "execution_count": null,
      "outputs": [
        {
          "output_type": "error",
          "ename": "NameError",
          "evalue": "ignored",
          "traceback": [
            "\u001b[0;31m---------------------------------------------------------------------------\u001b[0m",
            "\u001b[0;31mNameError\u001b[0m                                 Traceback (most recent call last)",
            "\u001b[0;32m<ipython-input-1-6d282ed97266>\u001b[0m in \u001b[0;36m<module>\u001b[0;34m()\u001b[0m\n\u001b[0;32m----> 1\u001b[0;31m \u001b[0mX\u001b[0m \u001b[0;34m=\u001b[0m \u001b[0marray\u001b[0m\u001b[0;34m[\u001b[0m\u001b[0;36m0\u001b[0m\u001b[0;34m:\u001b[0m\u001b[0;36m1\u001b[0m\u001b[0;34m,\u001b[0m\u001b[0;36m6\u001b[0m\u001b[0;34m:\u001b[0m\u001b[0;36m11\u001b[0m\u001b[0;34m]\u001b[0m\u001b[0;34m\u001b[0m\u001b[0;34m\u001b[0m\u001b[0m\n\u001b[0m\u001b[1;32m      2\u001b[0m \u001b[0mY\u001b[0m \u001b[0;34m=\u001b[0m \u001b[0marray\u001b[0m\u001b[0;34m[\u001b[0m\u001b[0;36m0\u001b[0m\u001b[0;34m:\u001b[0m\u001b[0;36m1\u001b[0m\u001b[0;34m,\u001b[0m\u001b[0;36m12\u001b[0m\u001b[0;34m]\u001b[0m\u001b[0;34m\u001b[0m\u001b[0;34m\u001b[0m\u001b[0m\n\u001b[1;32m      3\u001b[0m \u001b[0mX\u001b[0m\u001b[0;34m\u001b[0m\u001b[0;34m\u001b[0m\u001b[0m\n",
            "\u001b[0;31mNameError\u001b[0m: name 'array' is not defined"
          ]
        }
      ]
    },
    {
      "cell_type": "code",
      "metadata": {
        "colab": {
          "base_uri": "https://localhost:8080/"
        },
        "id": "JhVhDVSxZc-O",
        "outputId": "34adf88f-017e-4d71-8946-1ec5dc2674fa"
      },
      "source": [
        "model = LogisticRegression()\n",
        "model.fit(x_train,y_train)\n",
        "predictions = model.predict(X)\n",
        "print(accuracy_score(list(Y), predictions))"
      ],
      "execution_count": null,
      "outputs": [
        {
          "output_type": "stream",
          "name": "stdout",
          "text": [
            "0.0\n"
          ]
        }
      ]
    }
  ]
}